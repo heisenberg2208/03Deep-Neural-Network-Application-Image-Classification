{
 "cells": [
  {
   "cell_type": "code",
   "execution_count": 1,
   "metadata": {
    "collapsed": false
   },
   "outputs": [],
   "source": [
    "import time\n",
    "import numpy as np\n",
    "import h5py\n",
    "import matplotlib.pyplot as plt\n",
    "import scipy\n",
    "from PIL import Image\n",
    "from scipy import ndimage\n",
    "from dnn_app_utils_v2 import *\n",
    "\n",
    "%matplotlib inline\n",
    "plt.rcParams['figure.figsize'] = (5.0,4.0)\n",
    "plt.rcParams['image.interpolation'] = 'nearest'\n",
    "plt.rcParams['image.cmap'] = 'gray'\n",
    "\n",
    "%load_ext autoreload\n",
    "%autoreload 2\n",
    "\n",
    "np.random.seed(1)"
   ]
  },
  {
   "cell_type": "code",
   "execution_count": 2,
   "metadata": {
    "collapsed": true
   },
   "outputs": [],
   "source": [
    "train_x_orig , train_y , test_x_orig , test_y , classes = load_data()"
   ]
  },
  {
   "cell_type": "code",
   "execution_count": 3,
   "metadata": {
    "collapsed": false
   },
   "outputs": [
    {
     "name": "stdout",
     "output_type": "stream",
     "text": [
      "y=1\n"
     ]
    },
    {
     "data": {
      "image/png": "[encoded data removed]",
      "text/plain": [
       "<matplotlib.figure.Figure at 0x7f06ac39f208>"
      ]
     },
     "metadata": {},
     "output_type": "display_data"
    }
   ],
   "source": [
    "index = 11\n",
    "plt.imshow(train_x_orig[index])\n",
    "print(\"y=\"+str(train_y[0,index]))"
   ]
  },
  {
   "cell_type": "code",
   "execution_count": 4,
   "metadata": {
    "collapsed": false
   },
   "outputs": [
    {
     "name": "stdout",
     "output_type": "stream",
     "text": [
      "209\n",
      "64\n",
      "50\n",
      "(209, 64, 64, 3)\n"
     ]
    }
   ],
   "source": [
    "m_train = train_x_orig.shape[0]\n",
    "num_px = train_x_orig.shape[1]\n",
    "m_test = test_x_orig.shape[0]\n",
    "print(m_train)\n",
    "print(num_px)\n",
    "print(m_test)\n",
    "print(train_x_orig.shape)"
   ]
  },
  {
   "cell_type": "code",
   "execution_count": 5,
   "metadata": {
    "collapsed": false
   },
   "outputs": [
    {
     "name": "stdout",
     "output_type": "stream",
     "text": [
      "(12288, 209)\n",
      "(12288, 50)\n"
     ]
    }
   ],
   "source": [
    "train_x_flatten  = train_x_orig.reshape(train_x_orig.shape[0] , -1).T\n",
    "test_x_flatten = test_x_orig.reshape(test_x_orig.shape[0],-1).T\n",
    "\n",
    "train_x = train_x_flatten / 255\n",
    "test_x = test_x_flatten / 255\n",
    "\n",
    "print(train_x.shape)\n",
    "print(test_x.shape)"
   ]
  },
  {
   "cell_type": "code",
   "execution_count": 6,
   "metadata": {
    "collapsed": true
   },
   "outputs": [],
   "source": [
    "# exaple of 2 layer model\n",
    "n_x = 12288\n",
    "n_h = 7\n",
    "n_y = 1\n",
    "layer_dims = (n_x , n_h , n_y)"
   ]
  },
  {
   "cell_type": "code",
   "execution_count": 7,
   "metadata": {
    "collapsed": true
   },
   "outputs": [],
   "source": [
    "def two_layer_model(X,Y,layer_dims, learning_rate=0.0075 ,num_iter = 3000 , print_cost = False ):\n",
    "    np.random.seed(1)\n",
    "    grads = {}\n",
    "    costs = []\n",
    "    m = X.shape[1]\n",
    "    (n_x , n_h , n_y) = layer_dims\n",
    "    parameters = initialize_parameters(n_x , n_h , n_y)\n",
    "    \n",
    "    W1 = parameters[\"W1\"]\n",
    "    b1 = parameters[\"b1\"]\n",
    "    W2 = parameters[\"W2\"]\n",
    "    b2 = parameters[\"b2\"]\n",
    "    \n",
    "    for i in range(num_iter):\n",
    "        A1 , cache1 = linear_activation_forward(X , W1 , b1 , \"relu\")\n",
    "        A2 , cache2 = linear_activation_forward(A1 , W2 , b2 , \"sigmoid\")\n",
    "        \n",
    "        cost = compute_cost(A2,Y)\n",
    "        \n",
    "        dA2 = -(np.divide(Y,A2) - np.divide(1-Y,1-A2))\n",
    "        \n",
    "        dA1 , dW2 , db2 = linear_activation_backward(dA2 , cache2 , \"sigmoid\")\n",
    "        dA0 , dW1 , db1 = linear_activation_backward(dA1 , cache1 , \"relu\")\n",
    "        \n",
    "        grads[\"dW1\"] = dW1\n",
    "        grads[\"dW2\"] = dW2\n",
    "        grads[\"db1\"] = db1\n",
    "        grads[\"db2\"] = db2\n",
    "        \n",
    "        parameters = update_parameters(parameters , grads , learning_rate)\n",
    "        \n",
    "        W1 = parameters[\"W1\"]\n",
    "        b1 = parameters[\"b1\"]\n",
    "        W2 = parameters[\"W2\"]\n",
    "        b2 = parameters[\"b2\"]\n",
    "        \n",
    "        if print_cost and i%100 == 0:\n",
    "            print(\"cost after iteration {}:{}\".format(i,np.squeeze(cost)))\n",
    "        \n",
    "        if print_cost and i%100 == 0:\n",
    "            costs.append(cost)\n",
    "            \n",
    "    plt.plot(np.squeeze(costs))\n",
    "    plt.ylabel('cost')\n",
    "    plt.xlabel('iteration (per tens)')\n",
    "    plt.title(\"learning rate = \" + str(learning_rate))\n",
    "    plt.show()\n",
    "    \n",
    "    return parameters"
   ]
  },
  {
   "cell_type": "code",
   "execution_count": 8,
   "metadata": {
    "collapsed": false
   },
   "outputs": [
    {
     "name": "stdout",
     "output_type": "stream",
     "text": [
      "cost after iteration 0:0.6930497356599888\n",
      "cost after iteration 100:0.6464320953428849\n",
      "cost after iteration 200:0.6325140647912677\n",
      "cost after iteration 300:0.6015024920354665\n",
      "cost after iteration 400:0.5601966311605748\n",
      "cost after iteration 500:0.5158304772764729\n",
      "cost after iteration 600:0.4754901313943325\n",
      "cost after iteration 700:0.43391631512257495\n",
      "cost after iteration 800:0.4007977536203889\n",
      "cost after iteration 900:0.3580705011323798\n",
      "cost after iteration 1000:0.3394281538366413\n",
      "cost after iteration 1100:0.3052753636196264\n",
      "cost after iteration 1200:0.2749137728213016\n",
      "cost after iteration 1300:0.24681768210614832\n",
      "cost after iteration 1400:0.1985073503746612\n",
      "cost after iteration 1500:0.17448318112556635\n",
      "cost after iteration 1600:0.17080762978095823\n",
      "cost after iteration 1700:0.11306524562164749\n",
      "cost after iteration 1800:0.09629426845937161\n",
      "cost after iteration 1900:0.08342617959726865\n",
      "cost after iteration 2000:0.07439078704319083\n",
      "cost after iteration 2100:0.0663074813226793\n",
      "cost after iteration 2200:0.05919329501038169\n",
      "cost after iteration 2300:0.05336140348560554\n",
      "cost after iteration 2400:0.04855478562877018\n"
     ]
    },
    {
     "data": {
      "image/png": "[encoded data removed]",
      "text/plain": [
       "<matplotlib.figure.Figure at 0x7f06acc30cf8>"
      ]
     },
     "metadata": {},
     "output_type": "display_data"
    }
   ],
   "source": [
    "parameters = two_layer_model(train_x, train_y, (n_x, n_h, n_y), num_iter = 2500, print_cost=True)"
   ]
  },
  {
   "cell_type": "code",
   "execution_count": 9,
   "metadata": {
    "collapsed": false
   },
   "outputs": [
    {
     "name": "stdout",
     "output_type": "stream",
     "text": [
      "Accuracy: 1.0\n"
     ]
    }
   ],
   "source": [
    "predictions_train = predict(train_x , train_y , parameters)"
   ]
  },
  {
   "cell_type": "code",
   "execution_count": 10,
   "metadata": {
    "collapsed": false
   },
   "outputs": [
    {
     "name": "stdout",
     "output_type": "stream",
     "text": [
      "Accuracy: 0.72\n"
     ]
    }
   ],
   "source": [
    "predictions_test = predict(test_x , test_y , parameters)"
   ]
  },
  {
   "cell_type": "code",
   "execution_count": 11,
   "metadata": {
    "collapsed": true
   },
   "outputs": [],
   "source": [
    "layers_dims = [12288 , 20 , 7  , 5 ,1]"
   ]
  },
  {
   "cell_type": "code",
   "execution_count": 24,
   "metadata": {
    "collapsed": true
   },
   "outputs": [],
   "source": [
    "def L_layer_model(X,Y,layers_dims , learning_rate = 0.0075 , num_iter = 3000, print_cost = False):\n",
    "    np.random.seed(1)\n",
    "    costs=[]\n",
    "    \n",
    "    parameters = initialize_parameters_deep(layers_dims)\n",
    "    \n",
    "    for i in range(num_iter):\n",
    "        AL , caches = L_model_forward(X , parameters)\n",
    "        \n",
    "        cost = compute_cost(AL,Y)\n",
    "        \n",
    "        grads = L_model_backward(AL,Y,caches)\n",
    "        \n",
    "        parameters = update_parameters(parameters , grads , learning_rate)\n",
    "        \n",
    "        if print_cost and i%100==0:\n",
    "            print(\"Cost after iteration %i:%f\" % (i,cost))\n",
    "        if print_cost and i%100==0:\n",
    "            costs.append(cost)\n",
    "            \n",
    "    plt.plot(np.squeeze(costs))\n",
    "    plt.ylabel('cost')\n",
    "    plt.xlabel('iterations (per tens)')\n",
    "    plt.title(\"learning rate = \" + str(learning_rate))\n",
    "    plt.show()\n",
    "        \n",
    "    return parameters"
   ]
  },
  {
   "cell_type": "code",
   "execution_count": 25,
   "metadata": {
    "collapsed": false
   },
   "outputs": [
    {
     "name": "stdout",
     "output_type": "stream",
     "text": [
      "Cost after iteration 0:0.771749\n",
      "Cost after iteration 100:0.672053\n",
      "Cost after iteration 200:0.648263\n",
      "Cost after iteration 300:0.611507\n",
      "Cost after iteration 400:0.567047\n",
      "Cost after iteration 500:0.540138\n",
      "Cost after iteration 600:0.527930\n",
      "Cost after iteration 700:0.465477\n",
      "Cost after iteration 800:0.369126\n",
      "Cost after iteration 900:0.391747\n",
      "Cost after iteration 1000:0.315187\n",
      "Cost after iteration 1100:0.272700\n",
      "Cost after iteration 1200:0.237419\n",
      "Cost after iteration 1300:0.199601\n",
      "Cost after iteration 1400:0.189263\n",
      "Cost after iteration 1500:0.161189\n",
      "Cost after iteration 1600:0.148214\n",
      "Cost after iteration 1700:0.137775\n",
      "Cost after iteration 1800:0.129740\n",
      "Cost after iteration 1900:0.121225\n",
      "Cost after iteration 2000:0.113821\n",
      "Cost after iteration 2100:0.107839\n",
      "Cost after iteration 2200:0.102855\n",
      "Cost after iteration 2300:0.100897\n",
      "Cost after iteration 2400:0.092878\n"
     ]
    },
    {
     "data": {
      "image/png": "[encoded data removed]",
      "text/plain": [
       "<matplotlib.figure.Figure at 0x7f066d31dda0>"
      ]
     },
     "metadata": {},
     "output_type": "display_data"
    }
   ],
   "source": [
    "parameters = L_layer_model(train_x , train_y , layers_dims , num_iter =2500 , print_cost = True)"
   ]
  },
  {
   "cell_type": "code",
   "execution_count": 26,
   "metadata": {
    "collapsed": false
   },
   "outputs": [
    {
     "name": "stdout",
     "output_type": "stream",
     "text": [
      "Accuracy: 0.985645933014\n"
     ]
    }
   ],
   "source": [
    "pred_train = predict(train_x , train_y , parameters)"
   ]
  },
  {
   "cell_type": "code",
   "execution_count": 28,
   "metadata": {
    "collapsed": false
   },
   "outputs": [
    {
     "name": "stdout",
     "output_type": "stream",
     "text": [
      "Accuracy: 0.8\n"
     ]
    }
   ],
   "source": [
    "pred_test = predict(test_x, test_y , parameters)"
   ]
  },
  {
   "cell_type": "code",
   "execution_count": null,
   "metadata": {
    "collapsed": true
   },
   "outputs": [],
   "source": []
  }
 ],
 "metadata": {
  "kernelspec": {
   "display_name": "Python 3",
   "language": "python",
   "name": "python3"
  },
  "language_info": {
   "codemirror_mode": {
    "name": "ipython",
    "version": 3
   },
   "file_extension": ".py",
   "mimetype": "text/x-python",
   "name": "python",
   "nbconvert_exporter": "python",
   "pygments_lexer": "ipython3",
   "version": "3.5.4"
  }
 },
 "nbformat": 4,
 "nbformat_minor": 1
}
